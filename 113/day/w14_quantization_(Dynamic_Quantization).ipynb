{
  "cells": [
    {
      "cell_type": "markdown",
      "metadata": {
        "id": "rGY3CYCFtaM0"
      },
      "source": [
        "# Step 1: 下載資料集與定義模型\n"
      ]
    },
    {
      "cell_type": "code",
      "execution_count": null,
      "metadata": {
        "id": "s36g1-cePPuE"
      },
      "outputs": [],
      "source": [
        "import torch\n",
        "import torch.nn as nn\n",
        "import torchvision.transforms as transforms\n",
        "import torchvision.datasets as datasets\n",
        "from torch.quantization import quantize_dynamic\n",
        "import os"
      ]
    },
    {
      "cell_type": "code",
      "execution_count": null,
      "metadata": {
        "id": "VpdagEu0PTAO"
      },
      "outputs": [],
      "source": [
        "# 定義資料轉換\n",
        "transform = transforms.Compose([\n",
        "    transforms.Resize(256),\n",
        "    transforms.CenterCrop(224),\n",
        "    transforms.ToTensor(),\n",
        "    transforms.Normalize(mean=[0.485, 0.456, 0.406], std=[0.229, 0.224, 0.225]),\n",
        "])\n"
      ]
    },
    {
      "cell_type": "code",
      "execution_count": null,
      "metadata": {
        "id": "b01KS1hQmJMu"
      },
      "outputs": [],
      "source": [
        "# 定義自定義輕量模型\n",
        "class CustomNet(nn.Module):\n",
        "    def __init__(self, num_classes=10):\n",
        "        super(CustomNet, self).__init__()\n",
        "        self.features = nn.Sequential(\n",
        "            nn.Conv2d(3, 16, kernel_size=3, stride=1, padding=1),\n",
        "            nn.ReLU(),\n",
        "            nn.MaxPool2d(kernel_size=2, stride=2),\n",
        "            nn.Conv2d(16, 32, kernel_size=3, stride=1, padding=1),\n",
        "            nn.ReLU(),\n",
        "            nn.MaxPool2d(kernel_size=2, stride=2),\n",
        "            nn.AdaptiveAvgPool2d((7, 7))  # 確保特徵圖固定為 7x7\n",
        "        )\n",
        "        # 自動計算展平後的大小\n",
        "        self._initialize_flatten_size()\n",
        "\n",
        "        self.classifier = nn.Sequential(\n",
        "            nn.Linear(self.flatten_size, 128),  # 動態設置\n",
        "            nn.ReLU(),\n",
        "            nn.Linear(128, num_classes)\n",
        "        )\n",
        "\n",
        "    def _initialize_flatten_size(self):\n",
        "        \"\"\"用於計算展平後的大小\"\"\"\n",
        "        with torch.no_grad():\n",
        "            dummy_input = torch.zeros(1, 3, 32, 32)  # CIFAR10 輸入大小\n",
        "            dummy_output = self.features(dummy_input)\n",
        "            self.flatten_size = dummy_output.numel()  # 展平後的特徵大小\n",
        "\n",
        "    def forward(self, x):\n",
        "        x = self.features(x)\n",
        "        x = x.view(x.size(0), -1)  # 展平特徵\n",
        "        x = self.classifier(x)\n",
        "        return x"
      ]
    },
    {
      "cell_type": "code",
      "execution_count": null,
      "metadata": {
        "colab": {
          "base_uri": "https://localhost:8080/"
        },
        "id": "P-sC8tIBPUqp",
        "outputId": "7dc7e6ab-d9e9-4d32-ecfc-e5acd3b6aa7c"
      },
      "outputs": [
        {
          "name": "stdout",
          "output_type": "stream",
          "text": [
            "Files already downloaded and verified\n",
            "Files already downloaded and verified\n"
          ]
        }
      ],
      "source": [
        "# CIFAR10 訓練和測試數據集\n",
        "trainset = datasets.CIFAR10(root='./data', train=True, download=True, transform=transform)\n",
        "testset = datasets.CIFAR10(root='./data', train=False, download=True, transform=transform)\n",
        "\n",
        "trainloader = torch.utils.data.DataLoader(trainset, batch_size=32, shuffle=True, num_workers=4)\n",
        "testloader = torch.utils.data.DataLoader(testset, batch_size=64, shuffle=False)"
      ]
    },
    {
      "cell_type": "code",
      "execution_count": null,
      "metadata": {
        "colab": {
          "base_uri": "https://localhost:8080/"
        },
        "id": "ARfciTbsmN7R",
        "outputId": "54ac7309-641f-424a-ceeb-a5bdf41f7bd0"
      },
      "outputs": [
        {
          "name": "stdout",
          "output_type": "stream",
          "text": [
            "Model before quantization:\n",
            "CustomNet(\n",
            "  (features): Sequential(\n",
            "    (0): Conv2d(3, 16, kernel_size=(3, 3), stride=(1, 1), padding=(1, 1))\n",
            "    (1): ReLU()\n",
            "    (2): MaxPool2d(kernel_size=2, stride=2, padding=0, dilation=1, ceil_mode=False)\n",
            "    (3): Conv2d(16, 32, kernel_size=(3, 3), stride=(1, 1), padding=(1, 1))\n",
            "    (4): ReLU()\n",
            "    (5): MaxPool2d(kernel_size=2, stride=2, padding=0, dilation=1, ceil_mode=False)\n",
            "    (6): AdaptiveAvgPool2d(output_size=(7, 7))\n",
            "  )\n",
            "  (classifier): Sequential(\n",
            "    (0): Linear(in_features=1568, out_features=128, bias=True)\n",
            "    (1): ReLU()\n",
            "    (2): Linear(in_features=128, out_features=10, bias=True)\n",
            "  )\n",
            ")\n"
          ]
        }
      ],
      "source": [
        "# 載入模型\n",
        "model = CustomNet(num_classes=10)\n",
        "print(\"Model before quantization:\")\n",
        "print(model)\n"
      ]
    },
    {
      "cell_type": "markdown",
      "metadata": {
        "id": "A465z-grPawe"
      },
      "source": [
        "# Step 2: 訓練模型\n"
      ]
    },
    {
      "cell_type": "code",
      "execution_count": null,
      "metadata": {
        "colab": {
          "base_uri": "https://localhost:8080/",
          "height": 67,
          "referenced_widgets": [
            "a290cdc69060401a81a4cd5570a3bb89",
            "d854708546134a87a24b6b2475a52254",
            "59c02adfef784176b22aac778feadfad",
            "fcb7448ed4524373aaaccf928ad02860",
            "db7828e56dbd48389580ea7c8059b821",
            "a45414cd0a924b71ad39b44b94449e2b",
            "c0d4421faecb4e04bafc4450fa23efdb",
            "a9596e928caa4324bc9ac1502aa1c7ed",
            "83ba9e587e32486f8c68cf58a95444ce",
            "26802515748e435ea86e256f0c89457f",
            "aa49e85579594080a078499851f02f64",
            "12a07975eb264ce6b14cfeeb2a8743bb",
            "f777ed735d1244ce981f2342a4db5e2c",
            "9d17e5bfc87e4852bdf2405178fb5b8a",
            "3af807465fa942e38b2629ccf78b6c9b",
            "60faaa17c58e44bfb02565addb9918ca",
            "aed4113f284d4777bc8ad6f36993e3c8",
            "f26c2dc7b152487dbe3799f117b49dd8",
            "1884bf6ecd994dc7b22c4cf2f106c999",
            "6a991825dcc04ef59d07c2d4e5ddd928",
            "81f40e657db74fdeaccd4e418a69f755",
            "0c56e9da37e54561a01f0e2e7f59b208",
            "8eaf8acce34a4371beb1bd7d1e769b50",
            "b74373d2faad405b9ba8eb5a394733d1",
            "65791d9f70db487d8d52f15b1b3b4cef",
            "494a841459f04c1fb0cea521e653eeb1",
            "623998ff651349e185ee34df5c3cf50c",
            "407b55bfe715499fb5ebab0d10795ddd",
            "828031fdee304afda2cd743c550cb753",
            "91406120496843fb8f139acd10eccdcd",
            "a4a588cd560f4104a909522dad8ae317",
            "06370b24ab0d4d82ac3de832b5246b13",
            "0aa0b5a9d3fc4bf992aca341325a4b9f",
            "b9ed5204f90a4359a1fa573bef5720d7",
            "e4586320d81340779de2e6b2402804b1",
            "627a9884a54c434f9e9370737d795670",
            "57203923b5ea42b7bbabdbf2ebf70e67",
            "df1ee95ed2844fe59736732dfbfe36fa",
            "bafd841395524b7b9aec9161a35cb47b",
            "260c924cf0774e14b54e594128a1afb7",
            "d8c505460c524b6da36d697a885fa869",
            "b00c29b8a8524b19a3292a23cabc3153",
            "d8096a318fbf4d0f803e78d28d51cf74",
            "5ba4ec3efdee4036b10c2126d35a5fff",
            "bab440f3c21c4deda244eefb5be1c386",
            "687848ed59a54e45b21e519abdd601e2",
            "440392f8ffc7443c9f903c47da5ea066",
            "df6931828f6d438db111bc3758822ef3",
            "9718194c9e3e40fd95a45f99fce0b22e",
            "1b161072c2144874ab69d2fdd1322d3d",
            "759211b58bcf434eb0299d73ae0ed94f"
          ]
        },
        "id": "opLxyD8UPd0m",
        "outputId": "a02ac5a6-9fed-4a65-a511-8e9e4d323df6"
      },
      "outputs": [
        {
          "name": "stdout",
          "output_type": "stream",
          "text": [
            "Using device: cuda\n"
          ]
        },
        {
          "data": {
            "application/vnd.jupyter.widget-view+json": {
              "model_id": "06370b24ab0d4d82ac3de832b5246b13",
              "version_major": 2,
              "version_minor": 0
            },
            "text/plain": [
              "Epoch 1/20:   0%|          | 0/1563 [00:00<?, ?it/s]"
            ]
          },
          "metadata": {},
          "output_type": "display_data"
        },
        {
          "name": "stdout",
          "output_type": "stream",
          "text": [
            "Epoch 1, Loss: 1.5920\n"
          ]
        },
        {
          "data": {
            "application/vnd.jupyter.widget-view+json": {
              "model_id": "0aa0b5a9d3fc4bf992aca341325a4b9f",
              "version_major": 2,
              "version_minor": 0
            },
            "text/plain": [
              "Epoch 2/20:   0%|          | 0/1563 [00:00<?, ?it/s]"
            ]
          },
          "metadata": {},
          "output_type": "display_data"
        },
        {
          "name": "stdout",
          "output_type": "stream",
          "text": [
            "Epoch 2, Loss: 1.3804\n"
          ]
        },
        {
          "data": {
            "application/vnd.jupyter.widget-view+json": {
              "model_id": "b9ed5204f90a4359a1fa573bef5720d7",
              "version_major": 2,
              "version_minor": 0
            },
            "text/plain": [
              "Epoch 3/20:   0%|          | 0/1563 [00:00<?, ?it/s]"
            ]
          },
          "metadata": {},
          "output_type": "display_data"
        },
        {
          "name": "stdout",
          "output_type": "stream",
          "text": [
            "Epoch 3, Loss: 1.3020\n"
          ]
        },
        {
          "data": {
            "application/vnd.jupyter.widget-view+json": {
              "model_id": "e4586320d81340779de2e6b2402804b1",
              "version_major": 2,
              "version_minor": 0
            },
            "text/plain": [
              "Epoch 4/20:   0%|          | 0/1563 [00:00<?, ?it/s]"
            ]
          },
          "metadata": {},
          "output_type": "display_data"
        },
        {
          "name": "stdout",
          "output_type": "stream",
          "text": [
            "Epoch 4, Loss: 1.2460\n"
          ]
        },
        {
          "data": {
            "application/vnd.jupyter.widget-view+json": {
              "model_id": "627a9884a54c434f9e9370737d795670",
              "version_major": 2,
              "version_minor": 0
            },
            "text/plain": [
              "Epoch 5/20:   0%|          | 0/1563 [00:00<?, ?it/s]"
            ]
          },
          "metadata": {},
          "output_type": "display_data"
        },
        {
          "name": "stdout",
          "output_type": "stream",
          "text": [
            "Epoch 5, Loss: 1.1870\n"
          ]
        },
        {
          "data": {
            "application/vnd.jupyter.widget-view+json": {
              "model_id": "57203923b5ea42b7bbabdbf2ebf70e67",
              "version_major": 2,
              "version_minor": 0
            },
            "text/plain": [
              "Epoch 6/20:   0%|          | 0/1563 [00:00<?, ?it/s]"
            ]
          },
          "metadata": {},
          "output_type": "display_data"
        },
        {
          "name": "stdout",
          "output_type": "stream",
          "text": [
            "Epoch 6, Loss: 1.1279\n"
          ]
        },
        {
          "data": {
            "application/vnd.jupyter.widget-view+json": {
              "model_id": "df1ee95ed2844fe59736732dfbfe36fa",
              "version_major": 2,
              "version_minor": 0
            },
            "text/plain": [
              "Epoch 7/20:   0%|          | 0/1563 [00:00<?, ?it/s]"
            ]
          },
          "metadata": {},
          "output_type": "display_data"
        },
        {
          "name": "stdout",
          "output_type": "stream",
          "text": [
            "Epoch 7, Loss: 1.0803\n"
          ]
        },
        {
          "data": {
            "application/vnd.jupyter.widget-view+json": {
              "model_id": "bafd841395524b7b9aec9161a35cb47b",
              "version_major": 2,
              "version_minor": 0
            },
            "text/plain": [
              "Epoch 8/20:   0%|          | 0/1563 [00:00<?, ?it/s]"
            ]
          },
          "metadata": {},
          "output_type": "display_data"
        },
        {
          "name": "stdout",
          "output_type": "stream",
          "text": [
            "Epoch 8, Loss: 1.0355\n"
          ]
        },
        {
          "data": {
            "application/vnd.jupyter.widget-view+json": {
              "model_id": "260c924cf0774e14b54e594128a1afb7",
              "version_major": 2,
              "version_minor": 0
            },
            "text/plain": [
              "Epoch 9/20:   0%|          | 0/1563 [00:00<?, ?it/s]"
            ]
          },
          "metadata": {},
          "output_type": "display_data"
        },
        {
          "name": "stdout",
          "output_type": "stream",
          "text": [
            "Epoch 9, Loss: 0.9878\n"
          ]
        },
        {
          "data": {
            "application/vnd.jupyter.widget-view+json": {
              "model_id": "d8c505460c524b6da36d697a885fa869",
              "version_major": 2,
              "version_minor": 0
            },
            "text/plain": [
              "Epoch 10/20:   0%|          | 0/1563 [00:00<?, ?it/s]"
            ]
          },
          "metadata": {},
          "output_type": "display_data"
        },
        {
          "name": "stdout",
          "output_type": "stream",
          "text": [
            "Epoch 10, Loss: 0.9422\n"
          ]
        },
        {
          "data": {
            "application/vnd.jupyter.widget-view+json": {
              "model_id": "b00c29b8a8524b19a3292a23cabc3153",
              "version_major": 2,
              "version_minor": 0
            },
            "text/plain": [
              "Epoch 11/20:   0%|          | 0/1563 [00:00<?, ?it/s]"
            ]
          },
          "metadata": {},
          "output_type": "display_data"
        },
        {
          "name": "stdout",
          "output_type": "stream",
          "text": [
            "Epoch 11, Loss: 0.9016\n"
          ]
        },
        {
          "data": {
            "application/vnd.jupyter.widget-view+json": {
              "model_id": "d8096a318fbf4d0f803e78d28d51cf74",
              "version_major": 2,
              "version_minor": 0
            },
            "text/plain": [
              "Epoch 12/20:   0%|          | 0/1563 [00:00<?, ?it/s]"
            ]
          },
          "metadata": {},
          "output_type": "display_data"
        },
        {
          "name": "stdout",
          "output_type": "stream",
          "text": [
            "Epoch 12, Loss: 0.8611\n"
          ]
        },
        {
          "data": {
            "application/vnd.jupyter.widget-view+json": {
              "model_id": "5ba4ec3efdee4036b10c2126d35a5fff",
              "version_major": 2,
              "version_minor": 0
            },
            "text/plain": [
              "Epoch 13/20:   0%|          | 0/1563 [00:00<?, ?it/s]"
            ]
          },
          "metadata": {},
          "output_type": "display_data"
        },
        {
          "name": "stdout",
          "output_type": "stream",
          "text": [
            "Epoch 13, Loss: 0.8247\n"
          ]
        },
        {
          "data": {
            "application/vnd.jupyter.widget-view+json": {
              "model_id": "bab440f3c21c4deda244eefb5be1c386",
              "version_major": 2,
              "version_minor": 0
            },
            "text/plain": [
              "Epoch 14/20:   0%|          | 0/1563 [00:00<?, ?it/s]"
            ]
          },
          "metadata": {},
          "output_type": "display_data"
        },
        {
          "name": "stdout",
          "output_type": "stream",
          "text": [
            "Epoch 14, Loss: 0.7941\n"
          ]
        },
        {
          "data": {
            "application/vnd.jupyter.widget-view+json": {
              "model_id": "687848ed59a54e45b21e519abdd601e2",
              "version_major": 2,
              "version_minor": 0
            },
            "text/plain": [
              "Epoch 15/20:   0%|          | 0/1563 [00:00<?, ?it/s]"
            ]
          },
          "metadata": {},
          "output_type": "display_data"
        },
        {
          "name": "stdout",
          "output_type": "stream",
          "text": [
            "Epoch 15, Loss: 0.7590\n"
          ]
        },
        {
          "data": {
            "application/vnd.jupyter.widget-view+json": {
              "model_id": "440392f8ffc7443c9f903c47da5ea066",
              "version_major": 2,
              "version_minor": 0
            },
            "text/plain": [
              "Epoch 16/20:   0%|          | 0/1563 [00:00<?, ?it/s]"
            ]
          },
          "metadata": {},
          "output_type": "display_data"
        },
        {
          "name": "stdout",
          "output_type": "stream",
          "text": [
            "Epoch 16, Loss: 0.7286\n"
          ]
        },
        {
          "data": {
            "application/vnd.jupyter.widget-view+json": {
              "model_id": "df6931828f6d438db111bc3758822ef3",
              "version_major": 2,
              "version_minor": 0
            },
            "text/plain": [
              "Epoch 17/20:   0%|          | 0/1563 [00:00<?, ?it/s]"
            ]
          },
          "metadata": {},
          "output_type": "display_data"
        },
        {
          "name": "stdout",
          "output_type": "stream",
          "text": [
            "Epoch 17, Loss: 0.6956\n"
          ]
        },
        {
          "data": {
            "application/vnd.jupyter.widget-view+json": {
              "model_id": "9718194c9e3e40fd95a45f99fce0b22e",
              "version_major": 2,
              "version_minor": 0
            },
            "text/plain": [
              "Epoch 18/20:   0%|          | 0/1563 [00:00<?, ?it/s]"
            ]
          },
          "metadata": {},
          "output_type": "display_data"
        },
        {
          "name": "stdout",
          "output_type": "stream",
          "text": [
            "Epoch 18, Loss: 0.6669\n"
          ]
        },
        {
          "data": {
            "application/vnd.jupyter.widget-view+json": {
              "model_id": "1b161072c2144874ab69d2fdd1322d3d",
              "version_major": 2,
              "version_minor": 0
            },
            "text/plain": [
              "Epoch 19/20:   0%|          | 0/1563 [00:00<?, ?it/s]"
            ]
          },
          "metadata": {},
          "output_type": "display_data"
        },
        {
          "name": "stdout",
          "output_type": "stream",
          "text": [
            "Epoch 19, Loss: 0.6404\n"
          ]
        },
        {
          "data": {
            "application/vnd.jupyter.widget-view+json": {
              "model_id": "759211b58bcf434eb0299d73ae0ed94f",
              "version_major": 2,
              "version_minor": 0
            },
            "text/plain": [
              "Epoch 20/20:   0%|          | 0/1563 [00:00<?, ?it/s]"
            ]
          },
          "metadata": {},
          "output_type": "display_data"
        },
        {
          "name": "stdout",
          "output_type": "stream",
          "text": [
            "Epoch 20, Loss: 0.6164\n",
            "Trained Model Size: 0.79 MB\n"
          ]
        }
      ],
      "source": [
        "import torch.optim as optim\n",
        "from tqdm.notebook import tqdm\n",
        "from torch.cuda.amp import GradScaler, autocast\n",
        "# 定義損失函數和優化器\n",
        "criterion = torch.nn.CrossEntropyLoss()\n",
        "optimizer = torch.optim.Adam(model.parameters(), lr=0.001)\n",
        "# 移動模型到 GPU\n",
        "device = torch.device(\"cuda\" if torch.cuda.is_available() else \"cpu\")\n",
        "print(f'Using device: {device}')\n",
        "model = model.to(device)\n",
        "scaler = GradScaler()\n",
        "# 訓練函數\n",
        "def train(model, trainloader, optimizer, criterion, device='cuda', epochs=10):\n",
        "    model.train()\n",
        "    for epoch in range(epochs):\n",
        "        running_loss = 0.0\n",
        "        for inputs, labels in tqdm(trainloader, desc=f\"Epoch {epoch+1}/{epochs}\"):\n",
        "            inputs, labels = inputs.to(device), labels.to(device)\n",
        "\n",
        "            optimizer.zero_grad()\n",
        "\n",
        "            # 使用新的 autocast API\n",
        "            with autocast():\n",
        "                outputs = model(inputs)\n",
        "                loss = criterion(outputs, labels)\n",
        "\n",
        "            scaler.scale(loss).backward()\n",
        "            scaler.step(optimizer)\n",
        "            scaler.update()\n",
        "\n",
        "            running_loss += loss.item()\n",
        "        print(f\"Epoch {epoch+1}, Loss: {running_loss/len(trainloader):.4f}\")\n",
        "\n",
        "# 訓練模型\n",
        "train(model, trainloader, optimizer, criterion, epochs=20, device=device)\n",
        "# 儲存訓練後的模型\n",
        "torch.save(model.state_dict(), \"model_trained.pth\")\n",
        "print(f\"Trained Model Size: {os.path.getsize('model_trained.pth') / 1024 ** 2:.2f} MB\")\n"
      ]
    },
    {
      "cell_type": "markdown",
      "metadata": {
        "id": "HKRTEby4Phtw"
      },
      "source": [
        "# Step 3: 模型動態量化\n"
      ]
    },
    {
      "cell_type": "code",
      "execution_count": null,
      "metadata": {
        "id": "mVEDFCyAPiIt",
        "outputId": "5190a68c-b375-4af4-ab63-392f171ab05c"
      },
      "outputs": [
        {
          "name": "stdout",
          "output_type": "stream",
          "text": [
            "Quantized Model Size: 0.22 MB\n"
          ]
        }
      ],
      "source": [
        "# 將訓練好的模型設為評估模式\n",
        "model.eval()\n",
        "\n",
        "# 動態量化\n",
        "quantized_model = quantize_dynamic(\n",
        "    model.cpu(),  # 將模型移動到 CPU\n",
        "    {torch.nn.Linear},  # 僅量化全連接層\n",
        "    dtype=torch.qint8  # 使用 8-bit 量化\n",
        ")\n",
        "\n",
        "# 儲存量化後的模型\n",
        "torch.save(quantized_model.state_dict(), \"customnet_quantized.pth\")\n",
        "print(f\"Quantized Model Size: {os.path.getsize('customnet_quantized.pth') / 1024 ** 2:.2f} MB\")"
      ]
    },
    {
      "cell_type": "markdown",
      "metadata": {
        "id": "TSkTOhPqPmR3"
      },
      "source": [
        "# Step 4: 評估模型準確度與推理性能\n"
      ]
    },
    {
      "cell_type": "code",
      "execution_count": null,
      "metadata": {
        "id": "GzKUN_gnPoQl"
      },
      "outputs": [],
      "source": [
        "# 計算模型準確度的函數\n",
        "def evaluate(model, dataloader, device='cpu'):\n",
        "    \"\"\"\n",
        "    計算模型的準確度\n",
        "    :param model: 待評估的模型\n",
        "    :param dataloader: 測試數據的 DataLoader\n",
        "    :param device: 運行設備 ('cpu' 或 'cuda')\n",
        "    :return: 模型的準確度 (%)\n",
        "    \"\"\"\n",
        "    model.to(device)\n",
        "    model.eval()\n",
        "    correct = 0\n",
        "    total = 0\n",
        "    with torch.no_grad():\n",
        "        for inputs, labels in tqdm(dataloader, desc=\"Evaluating\", unit=\"batch\"):\n",
        "            inputs, labels = inputs.to(device), labels.to(device)\n",
        "            outputs = model(inputs)\n",
        "            _, predicted = outputs.max(1)\n",
        "            total += labels.size(0)\n",
        "            correct += (predicted == labels).sum().item()\n",
        "    accuracy = correct / total * 100\n",
        "    return accuracy\n",
        "\n",
        "# 測試推理時間\n",
        "def measure_inference_time(model, input_tensor, device='cpu'):\n",
        "    model.to(device)\n",
        "    input_tensor = input_tensor.to(device)\n",
        "    start_time = time.time()\n",
        "    with torch.no_grad():\n",
        "        for _ in range(100):  # 模擬多次推理\n",
        "            model(input_tensor)\n",
        "    end_time = time.time()\n",
        "    return (end_time - start_time) / 100\n",
        "\n",
        "# 測試模型\n",
        "input_tensor = next(iter(testloader))[0][0].unsqueeze(0)  # 獲取單張測試圖片\n",
        "\n"
      ]
    },
    {
      "cell_type": "code",
      "execution_count": null,
      "metadata": {
        "colab": {
          "referenced_widgets": [
            "1af4e9a1e1e048c1964a7850768f90c8",
            "6ceb12eb9ab4418da6c1e36231159fc1"
          ]
        },
        "id": "0ntDMhnYYlL6",
        "outputId": "8e953fcf-b719-4585-e006-e99969eefe89"
      },
      "outputs": [
        {
          "data": {
            "application/vnd.jupyter.widget-view+json": {
              "model_id": "6ceb12eb9ab4418da6c1e36231159fc1",
              "version_major": 2,
              "version_minor": 0
            },
            "text/plain": [
              "Evaluating:   0%|          | 0/157 [00:00<?, ?batch/s]"
            ]
          },
          "metadata": {},
          "output_type": "display_data"
        },
        {
          "name": "stdout",
          "output_type": "stream",
          "text": [
            "Original Model Accuracy: 61.22%\n"
          ]
        }
      ],
      "source": [
        "# 原始模型準確度\n",
        "original_accuracy = evaluate(model, testloader, device='cuda')\n",
        "# original_time = measure_inference_time(model, input_tensor, device='cuda')\n",
        "print(f\"Original Model Accuracy: {original_accuracy:.2f}%\")\n",
        "# print(f\"Original Model Inference Time: {original_time * 1000:.2f} ms\")"
      ]
    },
    {
      "cell_type": "code",
      "execution_count": null,
      "metadata": {
        "colab": {
          "referenced_widgets": [
            "c88c04481b1c47839690e69f62596979",
            "2341c63c810d423aab5844ae4d5cd110"
          ]
        },
        "id": "HJ6y_Z1jYkMd",
        "outputId": "b3457f94-5d2d-4593-b998-3919fb56716c"
      },
      "outputs": [
        {
          "data": {
            "application/vnd.jupyter.widget-view+json": {
              "model_id": "2341c63c810d423aab5844ae4d5cd110",
              "version_major": 2,
              "version_minor": 0
            },
            "text/plain": [
              "Evaluating:   0%|          | 0/157 [00:00<?, ?batch/s]"
            ]
          },
          "metadata": {},
          "output_type": "display_data"
        },
        {
          "name": "stdout",
          "output_type": "stream",
          "text": [
            "Quantized Model Accuracy: 61.39%\n"
          ]
        }
      ],
      "source": [
        "# 量化模型準確度\n",
        "quantized_accuracy = evaluate(quantized_model, testloader, device='cpu')\n",
        "# quantized_time = measure_inference_time(quantized_model, input_tensor, device='cpu')\n",
        "print(f\"Quantized Model Accuracy: {quantized_accuracy:.2f}%\")\n",
        "# print(f\"Quantized Model Inference Time: {quantized_time * 1000:.2f} ms\")"
      ]
    },
    {
      "cell_type": "markdown",
      "metadata": {
        "id": "FLp-MjEoPrXL"
      },
      "source": [
        "# Step 5: 視覺化結果\n"
      ]
    },
    {
      "cell_type": "code",
      "execution_count": null,
      "metadata": {
        "id": "Hvp33XVcPsoX",
        "outputId": "f6777415-84e7-427d-d31e-29ea34374f6b"
      },
      "outputs": [
        {
          "name": "stdout",
          "output_type": "stream",
          "text": [
            "Original Model Size: 0.79 MB\n",
            "Quantized Model Size: 0.22 MB\n",
            "Compression Ratio: 3.65\n"
          ]
        },
        {
          "data": {
            "image/png": "[encoded data removed]",
            "text/plain": [
              "<Figure size 1200x600 with 2 Axes>"
            ]
          },
          "metadata": {},
          "output_type": "display_data"
        }
      ],
      "source": [
        "import matplotlib.pyplot as plt\n",
        "\n",
        "# 計算模型大小\n",
        "original_model_size = os.path.getsize('model_trained.pth') / 1024 ** 2  # 原始模型大小 (MB)\n",
        "quantized_model_size = os.path.getsize('customnet_quantized.pth') / 1024 ** 2  # 量化模型大小 (MB)\n",
        "compression_ratio = original_model_size / quantized_model_size\n",
        "print(f\"Original Model Size: {original_model_size:.2f} MB\")\n",
        "print(f\"Quantized Model Size: {quantized_model_size:.2f} MB\")\n",
        "print(f'Compression Ratio: {compression_ratio:.2f}')\n",
        "# 視覺化模型大小比較\n",
        "plt.figure(figsize=(12, 6))\n",
        "\n",
        "# 模型大小比較圖\n",
        "plt.subplot(1, 2, 1)\n",
        "bars = plt.bar(['Original Model', 'Quantized Model'],\n",
        "               [original_model_size, quantized_model_size],\n",
        "               color=['blue', 'orange'])\n",
        "plt.ylabel('Model Size (MB)')\n",
        "plt.title('Model Size Comparison')\n",
        "for bar in bars:\n",
        "    plt.text(bar.get_x() + bar.get_width() / 2,\n",
        "             bar.get_height(),\n",
        "             f'{bar.get_height():.2f} MB',\n",
        "             ha='center', va='bottom')\n",
        "\n",
        "# 模型準確度比較圖\n",
        "plt.subplot(1, 2, 2)\n",
        "bars = plt.bar(['Original Model', 'Quantized Model'],\n",
        "               [original_accuracy, quantized_accuracy],\n",
        "               color=['blue', 'orange'])\n",
        "plt.ylabel('Accuracy (%)')\n",
        "plt.title('Model Accuracy Comparison')\n",
        "for bar in bars:\n",
        "    plt.text(bar.get_x() + bar.get_width() / 2,\n",
        "             bar.get_height(),\n",
        "             f'{bar.get_height():.2f}%',\n",
        "             ha='center', va='bottom')\n",
        "\n",
        "plt.tight_layout()\n",
        "plt.show()"
      ]
    }
  ],
  "metadata": {
    "accelerator": "GPU",
    "colab": {
      "gpuType": "T4",
      "provenance": []
    },
    "kernelspec": {
      "display_name": "torch",
      "language": "python",
      "name": "python3"
    },
    "language_info": {
      "codemirror_mode": {
        "name": "ipython",
        "version": 3
      },
      "file_extension": ".py",
      "mimetype": "text/x-python",
      "name": "python",
      "nbconvert_exporter": "python",
      "pygments_lexer": "ipython3",
      "version": "3.10.14"
    },
    "widgets": {
      "application/vnd.jupyter.widget-state+json": {
        "26802515748e435ea86e256f0c89457f": {
          "model_module": "@jupyter-widgets/base",
          "model_module_version": "1.2.0",
          "model_name": "LayoutModel",
          "state": {
            "_model_module": "@jupyter-widgets/base",
            "_model_module_version": "1.2.0",
            "_model_name": "LayoutModel",
            "_view_count": null,
            "_view_module": "@jupyter-widgets/base",
            "_view_module_version": "1.2.0",
            "_view_name": "LayoutView",
            "align_content": null,
            "align_items": null,
            "align_self": null,
            "border": null,
            "bottom": null,
            "display": null,
            "flex": null,
            "flex_flow": null,
            "grid_area": null,
            "grid_auto_columns": null,
            "grid_auto_flow": null,
            "grid_auto_rows": null,
            "grid_column": null,
            "grid_gap": null,
            "grid_row": null,
            "grid_template_areas": null,
            "grid_template_columns": null,
            "grid_template_rows": null,
            "height": null,
            "justify_content": null,
            "justify_items": null,
            "left": null,
            "margin": null,
            "max_height": null,
            "max_width": null,
            "min_height": null,
            "min_width": null,
            "object_fit": null,
            "object_position": null,
            "order": null,
            "overflow": null,
            "overflow_x": null,
            "overflow_y": null,
            "padding": null,
            "right": null,
            "top": null,
            "visibility": null,
            "width": null
          }
        },
        "59c02adfef784176b22aac778feadfad": {
          "model_module": "@jupyter-widgets/controls",
          "model_module_version": "1.5.0",
          "model_name": "FloatProgressModel",
          "state": {
            "_dom_classes": [],
            "_model_module": "@jupyter-widgets/controls",
            "_model_module_version": "1.5.0",
            "_model_name": "FloatProgressModel",
            "_view_count": null,
            "_view_module": "@jupyter-widgets/controls",
            "_view_module_version": "1.5.0",
            "_view_name": "ProgressView",
            "bar_style": "",
            "description": "",
            "description_tooltip": null,
            "layout": "IPY_MODEL_a9596e928caa4324bc9ac1502aa1c7ed",
            "max": 1563,
            "min": 0,
            "orientation": "horizontal",
            "style": "IPY_MODEL_83ba9e587e32486f8c68cf58a95444ce",
            "value": 713
          }
        },
        "83ba9e587e32486f8c68cf58a95444ce": {
          "model_module": "@jupyter-widgets/controls",
          "model_module_version": "1.5.0",
          "model_name": "ProgressStyleModel",
          "state": {
            "_model_module": "@jupyter-widgets/controls",
            "_model_module_version": "1.5.0",
            "_model_name": "ProgressStyleModel",
            "_view_count": null,
            "_view_module": "@jupyter-widgets/base",
            "_view_module_version": "1.2.0",
            "_view_name": "StyleView",
            "bar_color": null,
            "description_width": ""
          }
        },
        "a290cdc69060401a81a4cd5570a3bb89": {
          "model_module": "@jupyter-widgets/controls",
          "model_module_version": "1.5.0",
          "model_name": "HBoxModel",
          "state": {
            "_dom_classes": [],
            "_model_module": "@jupyter-widgets/controls",
            "_model_module_version": "1.5.0",
            "_model_name": "HBoxModel",
            "_view_count": null,
            "_view_module": "@jupyter-widgets/controls",
            "_view_module_version": "1.5.0",
            "_view_name": "HBoxView",
            "box_style": "",
            "children": [
              "IPY_MODEL_d854708546134a87a24b6b2475a52254",
              "IPY_MODEL_59c02adfef784176b22aac778feadfad",
              "IPY_MODEL_fcb7448ed4524373aaaccf928ad02860"
            ],
            "layout": "IPY_MODEL_db7828e56dbd48389580ea7c8059b821"
          }
        },
        "a45414cd0a924b71ad39b44b94449e2b": {
          "model_module": "@jupyter-widgets/base",
          "model_module_version": "1.2.0",
          "model_name": "LayoutModel",
          "state": {
            "_model_module": "@jupyter-widgets/base",
            "_model_module_version": "1.2.0",
            "_model_name": "LayoutModel",
            "_view_count": null,
            "_view_module": "@jupyter-widgets/base",
            "_view_module_version": "1.2.0",
            "_view_name": "LayoutView",
            "align_content": null,
            "align_items": null,
            "align_self": null,
            "border": null,
            "bottom": null,
            "display": null,
            "flex": null,
            "flex_flow": null,
            "grid_area": null,
            "grid_auto_columns": null,
            "grid_auto_flow": null,
            "grid_auto_rows": null,
            "grid_column": null,
            "grid_gap": null,
            "grid_row": null,
            "grid_template_areas": null,
            "grid_template_columns": null,
            "grid_template_rows": null,
            "height": null,
            "justify_content": null,
            "justify_items": null,
            "left": null,
            "margin": null,
            "max_height": null,
            "max_width": null,
            "min_height": null,
            "min_width": null,
            "object_fit": null,
            "object_position": null,
            "order": null,
            "overflow": null,
            "overflow_x": null,
            "overflow_y": null,
            "padding": null,
            "right": null,
            "top": null,
            "visibility": null,
            "width": null
          }
        },
        "a9596e928caa4324bc9ac1502aa1c7ed": {
          "model_module": "@jupyter-widgets/base",
          "model_module_version": "1.2.0",
          "model_name": "LayoutModel",
          "state": {
            "_model_module": "@jupyter-widgets/base",
            "_model_module_version": "1.2.0",
            "_model_name": "LayoutModel",
            "_view_count": null,
            "_view_module": "@jupyter-widgets/base",
            "_view_module_version": "1.2.0",
            "_view_name": "LayoutView",
            "align_content": null,
            "align_items": null,
            "align_self": null,
            "border": null,
            "bottom": null,
            "display": null,
            "flex": null,
            "flex_flow": null,
            "grid_area": null,
            "grid_auto_columns": null,
            "grid_auto_flow": null,
            "grid_auto_rows": null,
            "grid_column": null,
            "grid_gap": null,
            "grid_row": null,
            "grid_template_areas": null,
            "grid_template_columns": null,
            "grid_template_rows": null,
            "height": null,
            "justify_content": null,
            "justify_items": null,
            "left": null,
            "margin": null,
            "max_height": null,
            "max_width": null,
            "min_height": null,
            "min_width": null,
            "object_fit": null,
            "object_position": null,
            "order": null,
            "overflow": null,
            "overflow_x": null,
            "overflow_y": null,
            "padding": null,
            "right": null,
            "top": null,
            "visibility": null,
            "width": null
          }
        },
        "aa49e85579594080a078499851f02f64": {
          "model_module": "@jupyter-widgets/controls",
          "model_module_version": "1.5.0",
          "model_name": "DescriptionStyleModel",
          "state": {
            "_model_module": "@jupyter-widgets/controls",
            "_model_module_version": "1.5.0",
            "_model_name": "DescriptionStyleModel",
            "_view_count": null,
            "_view_module": "@jupyter-widgets/base",
            "_view_module_version": "1.2.0",
            "_view_name": "StyleView",
            "description_width": ""
          }
        },
        "c0d4421faecb4e04bafc4450fa23efdb": {
          "model_module": "@jupyter-widgets/controls",
          "model_module_version": "1.5.0",
          "model_name": "DescriptionStyleModel",
          "state": {
            "_model_module": "@jupyter-widgets/controls",
            "_model_module_version": "1.5.0",
            "_model_name": "DescriptionStyleModel",
            "_view_count": null,
            "_view_module": "@jupyter-widgets/base",
            "_view_module_version": "1.2.0",
            "_view_name": "StyleView",
            "description_width": ""
          }
        },
        "d854708546134a87a24b6b2475a52254": {
          "model_module": "@jupyter-widgets/controls",
          "model_module_version": "1.5.0",
          "model_name": "HTMLModel",
          "state": {
            "_dom_classes": [],
            "_model_module": "@jupyter-widgets/controls",
            "_model_module_version": "1.5.0",
            "_model_name": "HTMLModel",
            "_view_count": null,
            "_view_module": "@jupyter-widgets/controls",
            "_view_module_version": "1.5.0",
            "_view_name": "HTMLView",
            "description": "",
            "description_tooltip": null,
            "layout": "IPY_MODEL_a45414cd0a924b71ad39b44b94449e2b",
            "placeholder": "​",
            "style": "IPY_MODEL_c0d4421faecb4e04bafc4450fa23efdb",
            "value": "Epoch 1/10:  46%"
          }
        },
        "db7828e56dbd48389580ea7c8059b821": {
          "model_module": "@jupyter-widgets/base",
          "model_module_version": "1.2.0",
          "model_name": "LayoutModel",
          "state": {
            "_model_module": "@jupyter-widgets/base",
            "_model_module_version": "1.2.0",
            "_model_name": "LayoutModel",
            "_view_count": null,
            "_view_module": "@jupyter-widgets/base",
            "_view_module_version": "1.2.0",
            "_view_name": "LayoutView",
            "align_content": null,
            "align_items": null,
            "align_self": null,
            "border": null,
            "bottom": null,
            "display": null,
            "flex": null,
            "flex_flow": null,
            "grid_area": null,
            "grid_auto_columns": null,
            "grid_auto_flow": null,
            "grid_auto_rows": null,
            "grid_column": null,
            "grid_gap": null,
            "grid_row": null,
            "grid_template_areas": null,
            "grid_template_columns": null,
            "grid_template_rows": null,
            "height": null,
            "justify_content": null,
            "justify_items": null,
            "left": null,
            "margin": null,
            "max_height": null,
            "max_width": null,
            "min_height": null,
            "min_width": null,
            "object_fit": null,
            "object_position": null,
            "order": null,
            "overflow": null,
            "overflow_x": null,
            "overflow_y": null,
            "padding": null,
            "right": null,
            "top": null,
            "visibility": null,
            "width": null
          }
        },
        "fcb7448ed4524373aaaccf928ad02860": {
          "model_module": "@jupyter-widgets/controls",
          "model_module_version": "1.5.0",
          "model_name": "HTMLModel",
          "state": {
            "_dom_classes": [],
            "_model_module": "@jupyter-widgets/controls",
            "_model_module_version": "1.5.0",
            "_model_name": "HTMLModel",
            "_view_count": null,
            "_view_module": "@jupyter-widgets/controls",
            "_view_module_version": "1.5.0",
            "_view_name": "HTMLView",
            "description": "",
            "description_tooltip": null,
            "layout": "IPY_MODEL_26802515748e435ea86e256f0c89457f",
            "placeholder": "​",
            "style": "IPY_MODEL_aa49e85579594080a078499851f02f64",
            "value": " 713/1563 [00:50&lt;00:50, 16.88it/s]"
          }
        }
      }
    }
  },
  "nbformat": 4,
  "nbformat_minor": 0
}