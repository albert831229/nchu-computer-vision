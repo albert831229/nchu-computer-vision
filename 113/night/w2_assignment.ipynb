{
  "nbformat": 4,
  "nbformat_minor": 0,
  "metadata": {
    "colab": {
      "provenance": []
    },
    "kernelspec": {
      "name": "python3",
      "display_name": "Python 3"
    },
    "language_info": {
      "name": "python"
    }
  },
  "cells": [
    {
      "cell_type": "markdown",
      "source": [
        "# Homework1:Image Classification"
      ],
      "metadata": {
        "id": "1dBtJqmeGCdh"
      }
    },
    {
      "cell_type": "markdown",
      "source": [
        "檔名請按照命名格式:711xxxxxxx(您的學號)_hw1.ipynb"
      ],
      "metadata": {
        "id": "i6_9fmRrHGBA"
      }
    },
    {
      "cell_type": "markdown",
      "source": [
        "1.導入MNIST資料集並視覺化5個樣本和對應的Label（10分）"
      ],
      "metadata": {
        "id": "G9xZlS22GE8t"
      }
    },
    {
      "cell_type": "code",
      "source": [],
      "metadata": {
        "id": "4-93uqWjGgGf"
      },
      "execution_count": null,
      "outputs": []
    },
    {
      "cell_type": "markdown",
      "source": [
        "2.資料預處理並把資料劃分成訓練集和測試集（10分）"
      ],
      "metadata": {
        "id": "kVAKkInPGI_n"
      }
    },
    {
      "cell_type": "markdown",
      "source": [
        "將數據轉成一維且進行標準化:"
      ],
      "metadata": {
        "id": "2FUVpayu7eNo"
      }
    },
    {
      "cell_type": "code",
      "source": [],
      "metadata": {
        "id": "saGDTQMJPh6R"
      },
      "execution_count": null,
      "outputs": []
    },
    {
      "cell_type": "markdown",
      "source": [
        "將Label進行one-hot編碼:"
      ],
      "metadata": {
        "id": "IqF4Zbcz7hcz"
      }
    },
    {
      "cell_type": "code",
      "source": [],
      "metadata": {
        "id": "PPYoSHtdPins"
      },
      "execution_count": null,
      "outputs": []
    },
    {
      "cell_type": "markdown",
      "source": [
        "印出訓練集與測試集的shape:"
      ],
      "metadata": {
        "id": "OG7j7cYe7hfa"
      }
    },
    {
      "cell_type": "code",
      "source": [],
      "metadata": {
        "id": "01wJAZBjGggp"
      },
      "execution_count": null,
      "outputs": []
    },
    {
      "cell_type": "markdown",
      "source": [
        "3.構建至少兩層隱藏層的ANN（10分）"
      ],
      "metadata": {
        "id": "NdYFV4iPGNIU"
      }
    },
    {
      "cell_type": "markdown",
      "source": [
        "建立神經網絡:"
      ],
      "metadata": {
        "id": "0I3H8BtEP1v8"
      }
    },
    {
      "cell_type": "code",
      "source": [],
      "metadata": {
        "id": "w1x0E386Gg2_"
      },
      "execution_count": null,
      "outputs": []
    },
    {
      "cell_type": "markdown",
      "source": [
        "印出模型的架構:"
      ],
      "metadata": {
        "id": "A1ImMCcMP2hn"
      }
    },
    {
      "cell_type": "code",
      "source": [],
      "metadata": {
        "id": "vooUT99HP4_i"
      },
      "execution_count": null,
      "outputs": []
    },
    {
      "cell_type": "markdown",
      "source": [
        "4.完成訓練參數設置和訓練模型(10分）"
      ],
      "metadata": {
        "id": "9ibC_WT0GPLi"
      }
    },
    {
      "cell_type": "markdown",
      "source": [
        "設置optimizer、loss function、metrics、learning rate(若您選擇的optimizer有預設的learning rate則可以不用):"
      ],
      "metadata": {
        "id": "rPCixYLOQAen"
      }
    },
    {
      "cell_type": "code",
      "source": [],
      "metadata": {
        "id": "tLa210QZGhKs"
      },
      "execution_count": null,
      "outputs": []
    },
    {
      "cell_type": "markdown",
      "source": [
        "訓練模型:"
      ],
      "metadata": {
        "id": "3hC7YqLgQA9m"
      }
    },
    {
      "cell_type": "code",
      "source": [],
      "metadata": {
        "id": "gmbptwUXQENZ"
      },
      "execution_count": null,
      "outputs": []
    },
    {
      "cell_type": "markdown",
      "source": [
        "5.訓練模型並視覺化訓練曲線證明Loss隨著訓練的逐漸下降（20分）"
      ],
      "metadata": {
        "id": "l94WbxVqGRvD"
      }
    },
    {
      "cell_type": "code",
      "source": [],
      "metadata": {
        "id": "gHfJf8LAGhjT"
      },
      "execution_count": null,
      "outputs": []
    },
    {
      "cell_type": "markdown",
      "source": [
        "6.印出模型在測試集上的表現,accuracy需達到90%以上（20分）"
      ],
      "metadata": {
        "id": "OeviDyTkGU0J"
      }
    },
    {
      "cell_type": "code",
      "source": [],
      "metadata": {
        "id": "hIRyR0EQGh3w"
      },
      "execution_count": null,
      "outputs": []
    },
    {
      "cell_type": "markdown",
      "source": [
        "7.顯示出模型預測測試集的Confusion Matrix、Precision、Recall、Accuracy（10分）"
      ],
      "metadata": {
        "id": "E1isTqlNGXgf"
      }
    },
    {
      "cell_type": "code",
      "source": [],
      "metadata": {
        "id": "85d3Qj_LGiU9"
      },
      "execution_count": null,
      "outputs": []
    },
    {
      "cell_type": "markdown",
      "source": [
        "8.視覺化3個模型預測錯誤的資料（10分）"
      ],
      "metadata": {
        "id": "_iftCMpEGayq"
      }
    },
    {
      "cell_type": "code",
      "source": [],
      "metadata": {
        "id": "Nzc7M7SFGi3K"
      },
      "execution_count": null,
      "outputs": []
    }
  ]
}